{
 "cells": [
  {
   "cell_type": "code",
   "execution_count": null,
   "metadata": {},
   "outputs": [],
   "source": [
    "def caesar_cipher(text, shift, mode):\n",
    "    result = \"\"\n",
    "    for char in text:\n",
    "        if char.isalpha():  # This part of the code only ecnrypts letters\n",
    "            shift_amount = shift if mode == \"encrypt\" else -shift\n",
    "            new_char = chr(((ord(char.lower()) - 97 + shift_amount) % 26) + 97)\n",
    "            result += new_char.upper() if char.isupper() else new_char\n",
    "        else:\n",
    "            result += char  # this keeps the spaces and position unchanged\n",
    "    return result\n",
    "\n",
    "# Here is the code for getting the user input\n",
    "mode = input(\"Do you want to encrypt or decrypt? \").strip().lower()\n",
    "message = input(\"Enter your message: \")\n",
    "shift = int(input(\"Enter shift value (number of places to shift): \"))\n",
    "\n",
    "# Handle random shift value\n",
    "if shift_input == \"random\":\n",
    "    shift = random.randint(1, 25)\n",
    "    print(f\"Random value : {shift}\")\n",
    "else:\n",
    "    shift = int(shift_input)\n",
    "\n",
    "# Perform encryption/decryption\n",
    "output = caesar_cipher(message, shift, mode)\n",
    "print(f\"Result: {output}\")"
   ]
  }
 ],
 "metadata": {
  "language_info": {
   "name": "python"
  }
 },
 "nbformat": 4,
 "nbformat_minor": 2
}
